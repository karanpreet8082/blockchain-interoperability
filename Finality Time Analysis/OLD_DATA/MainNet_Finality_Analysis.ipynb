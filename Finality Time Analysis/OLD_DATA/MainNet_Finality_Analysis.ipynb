{
 "cells": [
  {
   "cell_type": "code",
   "execution_count": 18,
   "metadata": {},
   "outputs": [
    {
     "data": {
      "text/html": [
       "<div>\n",
       "<style scoped>\n",
       "    .dataframe tbody tr th:only-of-type {\n",
       "        vertical-align: middle;\n",
       "    }\n",
       "\n",
       "    .dataframe tbody tr th {\n",
       "        vertical-align: top;\n",
       "    }\n",
       "\n",
       "    .dataframe thead th {\n",
       "        text-align: right;\n",
       "    }\n",
       "</style>\n",
       "<table border=\"1\" class=\"dataframe\">\n",
       "  <thead>\n",
       "    <tr style=\"text-align: right;\">\n",
       "      <th></th>\n",
       "      <th>Unnamed: 0</th>\n",
       "      <th>Transaction Hash</th>\n",
       "      <th>Status</th>\n",
       "      <th>Time Consumed (Seconds)</th>\n",
       "      <th>Value (Ether)</th>\n",
       "      <th>Transaction Fees (Ether)</th>\n",
       "      <th>Gas Price (Ether)</th>\n",
       "      <th>Gas Limit</th>\n",
       "      <th>Gas Used</th>\n",
       "    </tr>\n",
       "  </thead>\n",
       "  <tbody>\n",
       "    <tr>\n",
       "      <th>0</th>\n",
       "      <td>0</td>\n",
       "      <td>0x93666f74bcd9ca5df77db3c2f4a48407004251cb316f...</td>\n",
       "      <td>Success</td>\n",
       "      <td>30</td>\n",
       "      <td>48.796871</td>\n",
       "      <td>0.003129</td>\n",
       "      <td>1.490000e-07</td>\n",
       "      <td>21000</td>\n",
       "      <td>21000</td>\n",
       "    </tr>\n",
       "    <tr>\n",
       "      <th>1</th>\n",
       "      <td>1</td>\n",
       "      <td>0x1598196dfb6b1323e2ac5a9f4dd9efc4867e6b7e50a9...</td>\n",
       "      <td>Success</td>\n",
       "      <td>30</td>\n",
       "      <td>0.000000</td>\n",
       "      <td>0.003907</td>\n",
       "      <td>1.490000e-07</td>\n",
       "      <td>41221</td>\n",
       "      <td>26221</td>\n",
       "    </tr>\n",
       "    <tr>\n",
       "      <th>2</th>\n",
       "      <td>2</td>\n",
       "      <td>0x5941f5c381e75eb8421ea1d49cb36ca6ada6ff53074d...</td>\n",
       "      <td>Success</td>\n",
       "      <td>30</td>\n",
       "      <td>0.000000</td>\n",
       "      <td>0.006140</td>\n",
       "      <td>1.490000e-07</td>\n",
       "      <td>60000</td>\n",
       "      <td>41209</td>\n",
       "    </tr>\n",
       "    <tr>\n",
       "      <th>3</th>\n",
       "      <td>3</td>\n",
       "      <td>0xec991377dffb16f70cb943ef976a2a31476e86cc21f3...</td>\n",
       "      <td>Success</td>\n",
       "      <td>30</td>\n",
       "      <td>0.000000</td>\n",
       "      <td>0.006355</td>\n",
       "      <td>1.500000e-07</td>\n",
       "      <td>69418</td>\n",
       "      <td>42369</td>\n",
       "    </tr>\n",
       "    <tr>\n",
       "      <th>4</th>\n",
       "      <td>4</td>\n",
       "      <td>0x0663c86faf9888e61e5b751a29534734bfd13ed9908b...</td>\n",
       "      <td>Success</td>\n",
       "      <td>30</td>\n",
       "      <td>0.000000</td>\n",
       "      <td>0.028795</td>\n",
       "      <td>1.500000e-07</td>\n",
       "      <td>291836</td>\n",
       "      <td>191970</td>\n",
       "    </tr>\n",
       "  </tbody>\n",
       "</table>\n",
       "</div>"
      ],
      "text/plain": [
       "   Unnamed: 0                                   Transaction Hash   Status  \\\n",
       "0           0  0x93666f74bcd9ca5df77db3c2f4a48407004251cb316f...  Success   \n",
       "1           1  0x1598196dfb6b1323e2ac5a9f4dd9efc4867e6b7e50a9...  Success   \n",
       "2           2  0x5941f5c381e75eb8421ea1d49cb36ca6ada6ff53074d...  Success   \n",
       "3           3  0xec991377dffb16f70cb943ef976a2a31476e86cc21f3...  Success   \n",
       "4           4  0x0663c86faf9888e61e5b751a29534734bfd13ed9908b...  Success   \n",
       "\n",
       "  Time Consumed (Seconds)  Value (Ether)  Transaction Fees (Ether)  \\\n",
       "0                      30      48.796871                  0.003129   \n",
       "1                      30       0.000000                  0.003907   \n",
       "2                      30       0.000000                  0.006140   \n",
       "3                      30       0.000000                  0.006355   \n",
       "4                      30       0.000000                  0.028795   \n",
       "\n",
       "   Gas Price (Ether)  Gas Limit  Gas Used  \n",
       "0       1.490000e-07      21000     21000  \n",
       "1       1.490000e-07      41221     26221  \n",
       "2       1.490000e-07      60000     41209  \n",
       "3       1.500000e-07      69418     42369  \n",
       "4       1.500000e-07     291836    191970  "
      ]
     },
     "execution_count": 18,
     "metadata": {},
     "output_type": "execute_result"
    }
   ],
   "source": [
    "import pandas as pd\n",
    "df = pd.read_csv(\"C:/Users/jain/Desktop/blockchain_interoperability/Finality Time Analysis/Mainnet.csv\")\n",
    "df.head()"
   ]
  },
  {
   "cell_type": "code",
   "execution_count": 19,
   "metadata": {},
   "outputs": [
    {
     "data": {
      "text/plain": [
       "<matplotlib.axes._subplots.AxesSubplot at 0x15447d2bcf8>"
      ]
     },
     "execution_count": 19,
     "metadata": {},
     "output_type": "execute_result"
    },
    {
     "data": {
      "image/png": "[encoded data removed]",
      "text/plain": [
       "<Figure size 432x288 with 1 Axes>"
      ]
     },
     "metadata": {},
     "output_type": "display_data"
    }
   ],
   "source": [
    "df['Status'].value_counts().plot.bar()"
   ]
  },
  {
   "cell_type": "code",
   "execution_count": 20,
   "metadata": {},
   "outputs": [],
   "source": [
    "import pandas as pd\n",
    "df.drop(df.index[(df[\"Time Consumed (Seconds)\"] == \"Remove\")],axis=0,inplace=True)\n",
    "#pd.to_numeric(df['Time Consumed (Seconds)'])\n",
    "#df['Time Consumed (Seconds)'].value_counts()\n",
    "df['Time Consumed (Seconds)'] = df['Time Consumed (Seconds)'].astype(int) "
   ]
  },
  {
   "cell_type": "code",
   "execution_count": 21,
   "metadata": {},
   "outputs": [
    {
     "data": {
      "text/html": [
       "<div>\n",
       "<style scoped>\n",
       "    .dataframe tbody tr th:only-of-type {\n",
       "        vertical-align: middle;\n",
       "    }\n",
       "\n",
       "    .dataframe tbody tr th {\n",
       "        vertical-align: top;\n",
       "    }\n",
       "\n",
       "    .dataframe thead th {\n",
       "        text-align: right;\n",
       "    }\n",
       "</style>\n",
       "<table border=\"1\" class=\"dataframe\">\n",
       "  <thead>\n",
       "    <tr style=\"text-align: right;\">\n",
       "      <th></th>\n",
       "      <th>Unnamed: 0</th>\n",
       "      <th>Time Consumed (Seconds)</th>\n",
       "      <th>Value (Ether)</th>\n",
       "      <th>Transaction Fees (Ether)</th>\n",
       "      <th>Gas Price (Ether)</th>\n",
       "      <th>Gas Limit</th>\n",
       "      <th>Gas Used</th>\n",
       "    </tr>\n",
       "  </thead>\n",
       "  <tbody>\n",
       "    <tr>\n",
       "      <th>count</th>\n",
       "      <td>5169.000000</td>\n",
       "      <td>5169.000000</td>\n",
       "      <td>5169.000000</td>\n",
       "      <td>5169.000000</td>\n",
       "      <td>5.169000e+03</td>\n",
       "      <td>5.169000e+03</td>\n",
       "      <td>5.169000e+03</td>\n",
       "    </tr>\n",
       "    <tr>\n",
       "      <th>mean</th>\n",
       "      <td>2584.763591</td>\n",
       "      <td>49.946605</td>\n",
       "      <td>1.809618</td>\n",
       "      <td>0.011200</td>\n",
       "      <td>1.733460e-07</td>\n",
       "      <td>1.571153e+05</td>\n",
       "      <td>6.662727e+04</td>\n",
       "    </tr>\n",
       "    <tr>\n",
       "      <th>std</th>\n",
       "      <td>1492.618829</td>\n",
       "      <td>85.703142</td>\n",
       "      <td>26.361856</td>\n",
       "      <td>0.017238</td>\n",
       "      <td>1.273859e-07</td>\n",
       "      <td>3.530212e+05</td>\n",
       "      <td>1.042495e+05</td>\n",
       "    </tr>\n",
       "    <tr>\n",
       "      <th>min</th>\n",
       "      <td>0.000000</td>\n",
       "      <td>1.000000</td>\n",
       "      <td>0.000000</td>\n",
       "      <td>0.000021</td>\n",
       "      <td>1.000000e-09</td>\n",
       "      <td>2.100000e+04</td>\n",
       "      <td>1.496000e+04</td>\n",
       "    </tr>\n",
       "    <tr>\n",
       "      <th>25%</th>\n",
       "      <td>1293.000000</td>\n",
       "      <td>30.000000</td>\n",
       "      <td>0.000000</td>\n",
       "      <td>0.003780</td>\n",
       "      <td>1.480000e-07</td>\n",
       "      <td>3.473100e+04</td>\n",
       "      <td>2.100000e+04</td>\n",
       "    </tr>\n",
       "    <tr>\n",
       "      <th>50%</th>\n",
       "      <td>2585.000000</td>\n",
       "      <td>30.000000</td>\n",
       "      <td>0.000000</td>\n",
       "      <td>0.006696</td>\n",
       "      <td>1.640000e-07</td>\n",
       "      <td>8.100000e+04</td>\n",
       "      <td>4.120900e+04</td>\n",
       "    </tr>\n",
       "    <tr>\n",
       "      <th>75%</th>\n",
       "      <td>3877.000000</td>\n",
       "      <td>30.000000</td>\n",
       "      <td>0.060000</td>\n",
       "      <td>0.011938</td>\n",
       "      <td>1.790000e-07</td>\n",
       "      <td>2.000000e+05</td>\n",
       "      <td>6.709400e+04</td>\n",
       "    </tr>\n",
       "    <tr>\n",
       "      <th>max</th>\n",
       "      <td>5169.000000</td>\n",
       "      <td>2632.000000</td>\n",
       "      <td>1250.000000</td>\n",
       "      <td>0.609017</td>\n",
       "      <td>4.872186e-06</td>\n",
       "      <td>1.237656e+07</td>\n",
       "      <td>4.258861e+06</td>\n",
       "    </tr>\n",
       "  </tbody>\n",
       "</table>\n",
       "</div>"
      ],
      "text/plain": [
       "        Unnamed: 0  Time Consumed (Seconds)  Value (Ether)  \\\n",
       "count  5169.000000              5169.000000    5169.000000   \n",
       "mean   2584.763591                49.946605       1.809618   \n",
       "std    1492.618829                85.703142      26.361856   \n",
       "min       0.000000                 1.000000       0.000000   \n",
       "25%    1293.000000                30.000000       0.000000   \n",
       "50%    2585.000000                30.000000       0.000000   \n",
       "75%    3877.000000                30.000000       0.060000   \n",
       "max    5169.000000              2632.000000    1250.000000   \n",
       "\n",
       "       Transaction Fees (Ether)  Gas Price (Ether)     Gas Limit      Gas Used  \n",
       "count               5169.000000       5.169000e+03  5.169000e+03  5.169000e+03  \n",
       "mean                   0.011200       1.733460e-07  1.571153e+05  6.662727e+04  \n",
       "std                    0.017238       1.273859e-07  3.530212e+05  1.042495e+05  \n",
       "min                    0.000021       1.000000e-09  2.100000e+04  1.496000e+04  \n",
       "25%                    0.003780       1.480000e-07  3.473100e+04  2.100000e+04  \n",
       "50%                    0.006696       1.640000e-07  8.100000e+04  4.120900e+04  \n",
       "75%                    0.011938       1.790000e-07  2.000000e+05  6.709400e+04  \n",
       "max                    0.609017       4.872186e-06  1.237656e+07  4.258861e+06  "
      ]
     },
     "execution_count": 21,
     "metadata": {},
     "output_type": "execute_result"
    }
   ],
   "source": [
    "df.describe()"
   ]
  },
  {
   "cell_type": "code",
   "execution_count": 22,
   "metadata": {},
   "outputs": [
    {
     "data": {
      "text/plain": [
       "1739       1\n",
       "7          1\n",
       "528        1\n",
       "494        1\n",
       "458        1\n",
       "390        1\n",
       "362        1\n",
       "350        1\n",
       "334        1\n",
       "330        1\n",
       "318        1\n",
       "314        1\n",
       "294        1\n",
       "222        1\n",
       "482        1\n",
       "480        1\n",
       "303        1\n",
       "344        1\n",
       "372        1\n",
       "312        1\n",
       "196        1\n",
       "360        1\n",
       "308        1\n",
       "112        1\n",
       "152        1\n",
       "108        1\n",
       "56         1\n",
       "184        1\n",
       "256        1\n",
       "176        1\n",
       "        ... \n",
       "13        14\n",
       "9         15\n",
       "64        15\n",
       "46        15\n",
       "21        16\n",
       "19        16\n",
       "130       17\n",
       "45        17\n",
       "33        19\n",
       "40        19\n",
       "27        19\n",
       "24        20\n",
       "11        20\n",
       "5         23\n",
       "59        23\n",
       "39        24\n",
       "29        24\n",
       "4         27\n",
       "3         27\n",
       "34        28\n",
       "22        29\n",
       "43        29\n",
       "32        30\n",
       "26        34\n",
       "14        34\n",
       "15        39\n",
       "10        40\n",
       "2         51\n",
       "1        271\n",
       "30      3347\n",
       "Name: Time Consumed (Seconds), Length: 250, dtype: int64"
      ]
     },
     "execution_count": 22,
     "metadata": {},
     "output_type": "execute_result"
    }
   ],
   "source": [
    "from matplotlib import pyplot as plt\n",
    "df['Time Consumed (Seconds)'].value_counts().sort_values()"
   ]
  },
  {
   "cell_type": "code",
   "execution_count": 23,
   "metadata": {},
   "outputs": [
    {
     "data": {
      "image/png": "[encoded data removed]",
      "text/plain": [
       "<Figure size 360x216 with 2 Axes>"
      ]
     },
     "metadata": {},
     "output_type": "display_data"
    }
   ],
   "source": [
    "a = plt.subplots(1,2,figsize=(5,3))[1].ravel()\n",
    "a[0].hist(df['Time Consumed (Seconds)'],range=[0,1])\n",
    "a[1].hist(df['Time Consumed (Seconds)'],range=[30,31])\n",
    "plt.tight_layout()\n",
    "plt.show()"
   ]
  },
  {
   "cell_type": "code",
   "execution_count": 24,
   "metadata": {},
   "outputs": [
    {
     "data": {
      "image/png": "[encoded data removed]",
      "text/plain": [
       "<Figure size 1080x720 with 12 Axes>"
      ]
     },
     "metadata": {},
     "output_type": "display_data"
    }
   ],
   "source": [
    "a = plt.subplots(4,3,figsize=(15,10))[1].ravel()\n",
    "a[0].hist(df['Time Consumed (Seconds)'],bins=30,range=[2,29])\n",
    "a[1].hist(df['Time Consumed (Seconds)'],bins=30,range=[31,60])\n",
    "a[2].hist(df['Time Consumed (Seconds)'],bins=30,range=[61,90])\n",
    "a[3].hist(df['Time Consumed (Seconds)'],bins=30,range=[91,120])\n",
    "a[4].hist(df['Time Consumed (Seconds)'],bins=30,range=[121,150])\n",
    "a[5].hist(df['Time Consumed (Seconds)'],bins=30,range=[151,180])\n",
    "a[6].hist(df['Time Consumed (Seconds)'],bins=30,range=[181,210])\n",
    "a[7].hist(df['Time Consumed (Seconds)'],bins=30,range=[211,240])\n",
    "a[8].hist(df['Time Consumed (Seconds)'],bins=30,range=[241,270])\n",
    "a[9].hist(df['Time Consumed (Seconds)'],bins=30,range=[271,300])\n",
    "a[10].hist(df['Time Consumed (Seconds)'],bins=100,range=[301,500])\n",
    "a[11].hist(df['Time Consumed (Seconds)'],bins=200,range=[501,2700])\n",
    "\n",
    "#plt.tight_layout()\n",
    "#plt.show()\n",
    "#a[7].set_ylim([0,5])\n",
    "plt.tight_layout()\n",
    "plt.show()"
   ]
  },
  {
   "cell_type": "code",
   "execution_count": 25,
   "metadata": {},
   "outputs": [
    {
     "data": {
      "text/plain": [
       "5.765138324627587"
      ]
     },
     "execution_count": 25,
     "metadata": {},
     "output_type": "execute_result"
    }
   ],
   "source": [
    "v = df[df['Time Consumed (Seconds)'] > 150].count()/df.count()\n",
    "v['Time Consumed (Seconds)']*100"
   ]
  },
  {
   "cell_type": "code",
   "execution_count": 26,
   "metadata": {},
   "outputs": [
    {
     "data": {
      "text/plain": [
       "0.15476881408396206"
      ]
     },
     "execution_count": 26,
     "metadata": {},
     "output_type": "execute_result"
    }
   ],
   "source": [
    "v = df[df['Time Consumed (Seconds)'] > 500 ].count()/df.count()\n",
    "v['Time Consumed (Seconds)']*100"
   ]
  },
  {
   "cell_type": "code",
   "execution_count": 27,
   "metadata": {},
   "outputs": [
    {
     "name": "stdout",
     "output_type": "stream",
     "text": [
      "292\n",
      "5.649061714064616\n",
      "94.23486167537241\n",
      "0.15476881408396206\n"
     ]
    }
   ],
   "source": [
    "v= df[df['Time Consumed (Seconds)'].between(150,500, inclusive=True)].count()\n",
    "print(v['Time Consumed (Seconds)'])\n",
    "v = (df[df['Time Consumed (Seconds)'].between(150,500, inclusive=True)].count()/df.count())*100\n",
    "print(v['Time Consumed (Seconds)'])\n",
    "v = (df[df['Time Consumed (Seconds)'].between(0,150, inclusive=True)].count()/df.count())*100\n",
    "print(v['Time Consumed (Seconds)'])\n",
    "v = (df[df['Time Consumed (Seconds)'].between(501,2700, inclusive=True)].count()/df.count())*100\n",
    "print(v['Time Consumed (Seconds)'])"
   ]
  },
  {
   "cell_type": "code",
   "execution_count": 28,
   "metadata": {},
   "outputs": [
    {
     "data": {
      "text/plain": [
       "80.17024569549235"
      ]
     },
     "execution_count": 28,
     "metadata": {},
     "output_type": "execute_result"
    }
   ],
   "source": [
    "v = df[df['Time Consumed (Seconds)'] <= 30].count()/df.count()\n",
    "v['Time Consumed (Seconds)']*100"
   ]
  },
  {
   "cell_type": "code",
   "execution_count": 29,
   "metadata": {},
   "outputs": [
    {
     "data": {
      "text/html": [
       "<div>\n",
       "<style scoped>\n",
       "    .dataframe tbody tr th:only-of-type {\n",
       "        vertical-align: middle;\n",
       "    }\n",
       "\n",
       "    .dataframe tbody tr th {\n",
       "        vertical-align: top;\n",
       "    }\n",
       "\n",
       "    .dataframe thead th {\n",
       "        text-align: right;\n",
       "    }\n",
       "</style>\n",
       "<table border=\"1\" class=\"dataframe\">\n",
       "  <thead>\n",
       "    <tr style=\"text-align: right;\">\n",
       "      <th></th>\n",
       "      <th>Unnamed: 0</th>\n",
       "      <th>Time Consumed (Seconds)</th>\n",
       "      <th>Value (Ether)</th>\n",
       "      <th>Transaction Fees (Ether)</th>\n",
       "      <th>Gas Price (Ether)</th>\n",
       "      <th>Gas Limit</th>\n",
       "      <th>Gas Used</th>\n",
       "    </tr>\n",
       "  </thead>\n",
       "  <tbody>\n",
       "    <tr>\n",
       "      <th>count</th>\n",
       "      <td>4871.000000</td>\n",
       "      <td>4871.000000</td>\n",
       "      <td>4871.000000</td>\n",
       "      <td>4871.000000</td>\n",
       "      <td>4.871000e+03</td>\n",
       "      <td>4.871000e+03</td>\n",
       "      <td>4.871000e+03</td>\n",
       "    </tr>\n",
       "    <tr>\n",
       "      <th>mean</th>\n",
       "      <td>2601.823445</td>\n",
       "      <td>33.018887</td>\n",
       "      <td>1.858968</td>\n",
       "      <td>0.011183</td>\n",
       "      <td>1.750269e-07</td>\n",
       "      <td>1.591509e+05</td>\n",
       "      <td>6.584072e+04</td>\n",
       "    </tr>\n",
       "    <tr>\n",
       "      <th>std</th>\n",
       "      <td>1498.593868</td>\n",
       "      <td>22.208173</td>\n",
       "      <td>27.071288</td>\n",
       "      <td>0.016953</td>\n",
       "      <td>1.309868e-07</td>\n",
       "      <td>3.600422e+05</td>\n",
       "      <td>1.001020e+05</td>\n",
       "    </tr>\n",
       "    <tr>\n",
       "      <th>min</th>\n",
       "      <td>0.000000</td>\n",
       "      <td>1.000000</td>\n",
       "      <td>0.000000</td>\n",
       "      <td>0.000210</td>\n",
       "      <td>1.000000e-08</td>\n",
       "      <td>2.100000e+04</td>\n",
       "      <td>1.496000e+04</td>\n",
       "    </tr>\n",
       "    <tr>\n",
       "      <th>25%</th>\n",
       "      <td>1310.500000</td>\n",
       "      <td>30.000000</td>\n",
       "      <td>0.000000</td>\n",
       "      <td>0.003822</td>\n",
       "      <td>1.490000e-07</td>\n",
       "      <td>3.415250e+04</td>\n",
       "      <td>2.100000e+04</td>\n",
       "    </tr>\n",
       "    <tr>\n",
       "      <th>50%</th>\n",
       "      <td>2574.000000</td>\n",
       "      <td>30.000000</td>\n",
       "      <td>0.000000</td>\n",
       "      <td>0.006747</td>\n",
       "      <td>1.660000e-07</td>\n",
       "      <td>8.241800e+04</td>\n",
       "      <td>4.120900e+04</td>\n",
       "    </tr>\n",
       "    <tr>\n",
       "      <th>75%</th>\n",
       "      <td>3946.500000</td>\n",
       "      <td>30.000000</td>\n",
       "      <td>0.060209</td>\n",
       "      <td>0.011916</td>\n",
       "      <td>1.801800e-07</td>\n",
       "      <td>2.012555e+05</td>\n",
       "      <td>6.510700e+04</td>\n",
       "    </tr>\n",
       "    <tr>\n",
       "      <th>max</th>\n",
       "      <td>5169.000000</td>\n",
       "      <td>150.000000</td>\n",
       "      <td>1250.000000</td>\n",
       "      <td>0.609017</td>\n",
       "      <td>4.872186e-06</td>\n",
       "      <td>1.237656e+07</td>\n",
       "      <td>4.258861e+06</td>\n",
       "    </tr>\n",
       "  </tbody>\n",
       "</table>\n",
       "</div>"
      ],
      "text/plain": [
       "        Unnamed: 0  Time Consumed (Seconds)  Value (Ether)  \\\n",
       "count  4871.000000              4871.000000    4871.000000   \n",
       "mean   2601.823445                33.018887       1.858968   \n",
       "std    1498.593868                22.208173      27.071288   \n",
       "min       0.000000                 1.000000       0.000000   \n",
       "25%    1310.500000                30.000000       0.000000   \n",
       "50%    2574.000000                30.000000       0.000000   \n",
       "75%    3946.500000                30.000000       0.060209   \n",
       "max    5169.000000               150.000000    1250.000000   \n",
       "\n",
       "       Transaction Fees (Ether)  Gas Price (Ether)     Gas Limit      Gas Used  \n",
       "count               4871.000000       4.871000e+03  4.871000e+03  4.871000e+03  \n",
       "mean                   0.011183       1.750269e-07  1.591509e+05  6.584072e+04  \n",
       "std                    0.016953       1.309868e-07  3.600422e+05  1.001020e+05  \n",
       "min                    0.000210       1.000000e-08  2.100000e+04  1.496000e+04  \n",
       "25%                    0.003822       1.490000e-07  3.415250e+04  2.100000e+04  \n",
       "50%                    0.006747       1.660000e-07  8.241800e+04  4.120900e+04  \n",
       "75%                    0.011916       1.801800e-07  2.012555e+05  6.510700e+04  \n",
       "max                    0.609017       4.872186e-06  1.237656e+07  4.258861e+06  "
      ]
     },
     "execution_count": 29,
     "metadata": {},
     "output_type": "execute_result"
    }
   ],
   "source": [
    "df[df['Time Consumed (Seconds)'].between(0,150, inclusive=True)].describe()"
   ]
  },
  {
   "cell_type": "markdown",
   "metadata": {},
   "source": [
    "**For the transaction having time upto 150 seconds, the mean is 33, standard deviation is 22 and amximum time taken is 150 seconds. Though, 80% of transactions completed upto 30 seconds. So, finality time for the bracket [0-150] seconds is as calculated ((Mean + Std. Deviation + Maximum value -150 seconds(As considerable amount of transactions))/2) = 103.**"
   ]
  },
  {
   "cell_type": "code",
   "execution_count": 30,
   "metadata": {},
   "outputs": [
    {
     "data": {
      "text/html": [
       "<div>\n",
       "<style scoped>\n",
       "    .dataframe tbody tr th:only-of-type {\n",
       "        vertical-align: middle;\n",
       "    }\n",
       "\n",
       "    .dataframe tbody tr th {\n",
       "        vertical-align: top;\n",
       "    }\n",
       "\n",
       "    .dataframe thead th {\n",
       "        text-align: right;\n",
       "    }\n",
       "</style>\n",
       "<table border=\"1\" class=\"dataframe\">\n",
       "  <thead>\n",
       "    <tr style=\"text-align: right;\">\n",
       "      <th></th>\n",
       "      <th>Unnamed: 0</th>\n",
       "      <th>Time Consumed (Seconds)</th>\n",
       "      <th>Value (Ether)</th>\n",
       "      <th>Transaction Fees (Ether)</th>\n",
       "      <th>Gas Price (Ether)</th>\n",
       "      <th>Gas Limit</th>\n",
       "      <th>Gas Used</th>\n",
       "    </tr>\n",
       "  </thead>\n",
       "  <tbody>\n",
       "    <tr>\n",
       "      <th>count</th>\n",
       "      <td>290.000000</td>\n",
       "      <td>290.000000</td>\n",
       "      <td>290.000000</td>\n",
       "      <td>290.000000</td>\n",
       "      <td>2.900000e+02</td>\n",
       "      <td>2.900000e+02</td>\n",
       "      <td>2.900000e+02</td>\n",
       "    </tr>\n",
       "    <tr>\n",
       "      <th>mean</th>\n",
       "      <td>2300.751724</td>\n",
       "      <td>308.286207</td>\n",
       "      <td>1.026980</td>\n",
       "      <td>0.011293</td>\n",
       "      <td>1.457768e-07</td>\n",
       "      <td>1.223201e+05</td>\n",
       "      <td>7.834090e+04</td>\n",
       "    </tr>\n",
       "    <tr>\n",
       "      <th>std</th>\n",
       "      <td>1363.707670</td>\n",
       "      <td>108.856040</td>\n",
       "      <td>8.779158</td>\n",
       "      <td>0.021540</td>\n",
       "      <td>1.497629e-08</td>\n",
       "      <td>2.063668e+05</td>\n",
       "      <td>1.583340e+05</td>\n",
       "    </tr>\n",
       "    <tr>\n",
       "      <th>min</th>\n",
       "      <td>232.000000</td>\n",
       "      <td>151.000000</td>\n",
       "      <td>0.000000</td>\n",
       "      <td>0.000021</td>\n",
       "      <td>1.000000e-09</td>\n",
       "      <td>2.100000e+04</td>\n",
       "      <td>2.100000e+04</td>\n",
       "    </tr>\n",
       "    <tr>\n",
       "      <th>25%</th>\n",
       "      <td>441.250000</td>\n",
       "      <td>207.000000</td>\n",
       "      <td>0.000000</td>\n",
       "      <td>0.003396</td>\n",
       "      <td>1.345000e-07</td>\n",
       "      <td>3.660075e+04</td>\n",
       "      <td>2.128900e+04</td>\n",
       "    </tr>\n",
       "    <tr>\n",
       "      <th>50%</th>\n",
       "      <td>2683.500000</td>\n",
       "      <td>293.000000</td>\n",
       "      <td>0.000000</td>\n",
       "      <td>0.006185</td>\n",
       "      <td>1.370000e-07</td>\n",
       "      <td>6.000000e+04</td>\n",
       "      <td>4.120900e+04</td>\n",
       "    </tr>\n",
       "    <tr>\n",
       "      <th>75%</th>\n",
       "      <td>3500.750000</td>\n",
       "      <td>396.500000</td>\n",
       "      <td>0.036101</td>\n",
       "      <td>0.012955</td>\n",
       "      <td>1.600000e-07</td>\n",
       "      <td>1.522732e+05</td>\n",
       "      <td>9.342800e+04</td>\n",
       "    </tr>\n",
       "    <tr>\n",
       "      <th>max</th>\n",
       "      <td>4384.000000</td>\n",
       "      <td>497.000000</td>\n",
       "      <td>110.047884</td>\n",
       "      <td>0.311431</td>\n",
       "      <td>1.660000e-07</td>\n",
       "      <td>2.601641e+06</td>\n",
       "      <td>2.324111e+06</td>\n",
       "    </tr>\n",
       "  </tbody>\n",
       "</table>\n",
       "</div>"
      ],
      "text/plain": [
       "        Unnamed: 0  Time Consumed (Seconds)  Value (Ether)  \\\n",
       "count   290.000000               290.000000     290.000000   \n",
       "mean   2300.751724               308.286207       1.026980   \n",
       "std    1363.707670               108.856040       8.779158   \n",
       "min     232.000000               151.000000       0.000000   \n",
       "25%     441.250000               207.000000       0.000000   \n",
       "50%    2683.500000               293.000000       0.000000   \n",
       "75%    3500.750000               396.500000       0.036101   \n",
       "max    4384.000000               497.000000     110.047884   \n",
       "\n",
       "       Transaction Fees (Ether)  Gas Price (Ether)     Gas Limit      Gas Used  \n",
       "count                290.000000       2.900000e+02  2.900000e+02  2.900000e+02  \n",
       "mean                   0.011293       1.457768e-07  1.223201e+05  7.834090e+04  \n",
       "std                    0.021540       1.497629e-08  2.063668e+05  1.583340e+05  \n",
       "min                    0.000021       1.000000e-09  2.100000e+04  2.100000e+04  \n",
       "25%                    0.003396       1.345000e-07  3.660075e+04  2.128900e+04  \n",
       "50%                    0.006185       1.370000e-07  6.000000e+04  4.120900e+04  \n",
       "75%                    0.012955       1.600000e-07  1.522732e+05  9.342800e+04  \n",
       "max                    0.311431       1.660000e-07  2.601641e+06  2.324111e+06  "
      ]
     },
     "execution_count": 30,
     "metadata": {},
     "output_type": "execute_result"
    }
   ],
   "source": [
    "df[df['Time Consumed (Seconds)'].between(151,500, inclusive=True)].describe()"
   ]
  },
  {
   "cell_type": "markdown",
   "metadata": {},
   "source": [
    "**For the transaction having time upto 150 seconds, the mean is 33, standard deviation is 22 and amximum time taken is 150 seconds. Though, 80% of transactions completed upto 30 seconds. So, finality time for the bracket [0-150] seconds is as calculated ((Mean + Std. Deviation + Maximum value -150 seconds(As considerable amount of transactions))/2) = 457.**"
   ]
  },
  {
   "cell_type": "code",
   "execution_count": 31,
   "metadata": {},
   "outputs": [
    {
     "data": {
      "text/html": [
       "<div>\n",
       "<style scoped>\n",
       "    .dataframe tbody tr th:only-of-type {\n",
       "        vertical-align: middle;\n",
       "    }\n",
       "\n",
       "    .dataframe tbody tr th {\n",
       "        vertical-align: top;\n",
       "    }\n",
       "\n",
       "    .dataframe thead th {\n",
       "        text-align: right;\n",
       "    }\n",
       "</style>\n",
       "<table border=\"1\" class=\"dataframe\">\n",
       "  <thead>\n",
       "    <tr style=\"text-align: right;\">\n",
       "      <th></th>\n",
       "      <th>Unnamed: 0</th>\n",
       "      <th>Time Consumed (Seconds)</th>\n",
       "      <th>Value (Ether)</th>\n",
       "      <th>Transaction Fees (Ether)</th>\n",
       "      <th>Gas Price (Ether)</th>\n",
       "      <th>Gas Limit</th>\n",
       "      <th>Gas Used</th>\n",
       "    </tr>\n",
       "  </thead>\n",
       "  <tbody>\n",
       "    <tr>\n",
       "      <th>count</th>\n",
       "      <td>8.000000</td>\n",
       "      <td>8.000000</td>\n",
       "      <td>8.000000</td>\n",
       "      <td>8.000000</td>\n",
       "      <td>8.000000e+00</td>\n",
       "      <td>8.00000</td>\n",
       "      <td>8.000000</td>\n",
       "    </tr>\n",
       "    <tr>\n",
       "      <th>mean</th>\n",
       "      <td>2492.875000</td>\n",
       "      <td>992.000000</td>\n",
       "      <td>0.132651</td>\n",
       "      <td>0.018468</td>\n",
       "      <td>1.492500e-07</td>\n",
       "      <td>179005.37500</td>\n",
       "      <td>120924.500000</td>\n",
       "    </tr>\n",
       "    <tr>\n",
       "      <th>std</th>\n",
       "      <td>1441.603813</td>\n",
       "      <td>782.191244</td>\n",
       "      <td>0.188606</td>\n",
       "      <td>0.013958</td>\n",
       "      <td>1.258957e-08</td>\n",
       "      <td>102778.62817</td>\n",
       "      <td>88369.885874</td>\n",
       "    </tr>\n",
       "    <tr>\n",
       "      <th>min</th>\n",
       "      <td>279.000000</td>\n",
       "      <td>504.000000</td>\n",
       "      <td>0.000000</td>\n",
       "      <td>0.002835</td>\n",
       "      <td>1.342000e-07</td>\n",
       "      <td>21000.00000</td>\n",
       "      <td>21000.000000</td>\n",
       "    </tr>\n",
       "    <tr>\n",
       "      <th>25%</th>\n",
       "      <td>1963.000000</td>\n",
       "      <td>504.000000</td>\n",
       "      <td>0.000000</td>\n",
       "      <td>0.005686</td>\n",
       "      <td>1.352250e-07</td>\n",
       "      <td>130001.25000</td>\n",
       "      <td>36156.750000</td>\n",
       "    </tr>\n",
       "    <tr>\n",
       "      <th>50%</th>\n",
       "      <td>3036.500000</td>\n",
       "      <td>642.000000</td>\n",
       "      <td>0.008680</td>\n",
       "      <td>0.018567</td>\n",
       "      <td>1.542500e-07</td>\n",
       "      <td>174069.50000</td>\n",
       "      <td>120617.000000</td>\n",
       "    </tr>\n",
       "    <tr>\n",
       "      <th>75%</th>\n",
       "      <td>3529.500000</td>\n",
       "      <td>1011.500000</td>\n",
       "      <td>0.260387</td>\n",
       "      <td>0.027005</td>\n",
       "      <td>1.600000e-07</td>\n",
       "      <td>265766.25000</td>\n",
       "      <td>190224.750000</td>\n",
       "    </tr>\n",
       "    <tr>\n",
       "      <th>max</th>\n",
       "      <td>3727.000000</td>\n",
       "      <td>2632.000000</td>\n",
       "      <td>0.450000</td>\n",
       "      <td>0.037861</td>\n",
       "      <td>1.610000e-07</td>\n",
       "      <td>314240.00000</td>\n",
       "      <td>236634.000000</td>\n",
       "    </tr>\n",
       "  </tbody>\n",
       "</table>\n",
       "</div>"
      ],
      "text/plain": [
       "        Unnamed: 0  Time Consumed (Seconds)  Value (Ether)  \\\n",
       "count     8.000000                 8.000000       8.000000   \n",
       "mean   2492.875000               992.000000       0.132651   \n",
       "std    1441.603813               782.191244       0.188606   \n",
       "min     279.000000               504.000000       0.000000   \n",
       "25%    1963.000000               504.000000       0.000000   \n",
       "50%    3036.500000               642.000000       0.008680   \n",
       "75%    3529.500000              1011.500000       0.260387   \n",
       "max    3727.000000              2632.000000       0.450000   \n",
       "\n",
       "       Transaction Fees (Ether)  Gas Price (Ether)     Gas Limit  \\\n",
       "count                  8.000000       8.000000e+00       8.00000   \n",
       "mean                   0.018468       1.492500e-07  179005.37500   \n",
       "std                    0.013958       1.258957e-08  102778.62817   \n",
       "min                    0.002835       1.342000e-07   21000.00000   \n",
       "25%                    0.005686       1.352250e-07  130001.25000   \n",
       "50%                    0.018567       1.542500e-07  174069.50000   \n",
       "75%                    0.027005       1.600000e-07  265766.25000   \n",
       "max                    0.037861       1.610000e-07  314240.00000   \n",
       "\n",
       "            Gas Used  \n",
       "count       8.000000  \n",
       "mean   120924.500000  \n",
       "std     88369.885874  \n",
       "min     21000.000000  \n",
       "25%     36156.750000  \n",
       "50%    120617.000000  \n",
       "75%    190224.750000  \n",
       "max    236634.000000  "
      ]
     },
     "execution_count": 31,
     "metadata": {},
     "output_type": "execute_result"
    }
   ],
   "source": [
    "df[df['Time Consumed (Seconds)'].between(501,2700, inclusive=True)].describe()"
   ]
  },
  {
   "cell_type": "code",
   "execution_count": 33,
   "metadata": {},
   "outputs": [
    {
     "data": {
      "text/html": [
       "<div>\n",
       "<style scoped>\n",
       "    .dataframe tbody tr th:only-of-type {\n",
       "        vertical-align: middle;\n",
       "    }\n",
       "\n",
       "    .dataframe tbody tr th {\n",
       "        vertical-align: top;\n",
       "    }\n",
       "\n",
       "    .dataframe thead th {\n",
       "        text-align: right;\n",
       "    }\n",
       "</style>\n",
       "<table border=\"1\" class=\"dataframe\">\n",
       "  <thead>\n",
       "    <tr style=\"text-align: right;\">\n",
       "      <th></th>\n",
       "      <th>Unnamed: 0</th>\n",
       "      <th>Transaction Hash</th>\n",
       "      <th>Status</th>\n",
       "      <th>Time Consumed (Seconds)</th>\n",
       "      <th>Value (Ether)</th>\n",
       "      <th>Transaction Fees (Ether)</th>\n",
       "      <th>Gas Price (Ether)</th>\n",
       "      <th>Gas Limit</th>\n",
       "      <th>Gas Used</th>\n",
       "    </tr>\n",
       "  </thead>\n",
       "  <tbody>\n",
       "    <tr>\n",
       "      <th>279</th>\n",
       "      <td>279</td>\n",
       "      <td>0x7e0a8e3990159e4f3f56cb9c698cb8cdd8c1db009248...</td>\n",
       "      <td>Success</td>\n",
       "      <td>769</td>\n",
       "      <td>0.450000</td>\n",
       "      <td>0.018895</td>\n",
       "      <td>1.485000e-07</td>\n",
       "      <td>168139</td>\n",
       "      <td>127241</td>\n",
       "    </tr>\n",
       "    <tr>\n",
       "      <th>280</th>\n",
       "      <td>280</td>\n",
       "      <td>0xae8ba6ae4274756b4de55bb669e4fe91f0c0766a3f5a...</td>\n",
       "      <td>Success</td>\n",
       "      <td>528</td>\n",
       "      <td>0.000000</td>\n",
       "      <td>0.002841</td>\n",
       "      <td>1.353000e-07</td>\n",
       "      <td>21000</td>\n",
       "      <td>21000</td>\n",
       "    </tr>\n",
       "    <tr>\n",
       "      <th>2524</th>\n",
       "      <td>2524</td>\n",
       "      <td>0xc13b3162f1ac5f352ecb8c054935bafaa61cb21e909b...</td>\n",
       "      <td>Success</td>\n",
       "      <td>2632</td>\n",
       "      <td>0.223849</td>\n",
       "      <td>0.023792</td>\n",
       "      <td>1.342000e-07</td>\n",
       "      <td>263868</td>\n",
       "      <td>177290</td>\n",
       "    </tr>\n",
       "    <tr>\n",
       "      <th>2545</th>\n",
       "      <td>2545</td>\n",
       "      <td>0x5edf1fdcb7742399065365ea808d5364c9ec92a8b15c...</td>\n",
       "      <td>Success</td>\n",
       "      <td>1739</td>\n",
       "      <td>0.001000</td>\n",
       "      <td>0.002835</td>\n",
       "      <td>1.350000e-07</td>\n",
       "      <td>180000</td>\n",
       "      <td>21000</td>\n",
       "    </tr>\n",
       "    <tr>\n",
       "      <th>3528</th>\n",
       "      <td>3528</td>\n",
       "      <td>0x2101f4ba90a93a0b5803420c7458de0524986c81c1c1...</td>\n",
       "      <td>Success</td>\n",
       "      <td>504</td>\n",
       "      <td>0.370000</td>\n",
       "      <td>0.018239</td>\n",
       "      <td>1.600000e-07</td>\n",
       "      <td>153335</td>\n",
       "      <td>113993</td>\n",
       "    </tr>\n",
       "    <tr>\n",
       "      <th>3529</th>\n",
       "      <td>3529</td>\n",
       "      <td>0x79f782190634b9aa74fe4759ecc30d55d859b69691be...</td>\n",
       "      <td>Success</td>\n",
       "      <td>504</td>\n",
       "      <td>0.016360</td>\n",
       "      <td>0.036645</td>\n",
       "      <td>1.600000e-07</td>\n",
       "      <td>271461</td>\n",
       "      <td>229029</td>\n",
       "    </tr>\n",
       "    <tr>\n",
       "      <th>3531</th>\n",
       "      <td>3531</td>\n",
       "      <td>0xd83e502efad5eda0a030f7487271f79c53c34a6598c1...</td>\n",
       "      <td>Success</td>\n",
       "      <td>504</td>\n",
       "      <td>0.000000</td>\n",
       "      <td>0.037861</td>\n",
       "      <td>1.600000e-07</td>\n",
       "      <td>314240</td>\n",
       "      <td>236634</td>\n",
       "    </tr>\n",
       "    <tr>\n",
       "      <th>3727</th>\n",
       "      <td>3727</td>\n",
       "      <td>0x9fbdb0eb4b20d21adf4d8bc60ba0fa973d5ddd3c8cec...</td>\n",
       "      <td>Success</td>\n",
       "      <td>756</td>\n",
       "      <td>0.000000</td>\n",
       "      <td>0.006635</td>\n",
       "      <td>1.610000e-07</td>\n",
       "      <td>60000</td>\n",
       "      <td>41209</td>\n",
       "    </tr>\n",
       "  </tbody>\n",
       "</table>\n",
       "</div>"
      ],
      "text/plain": [
       "      Unnamed: 0                                   Transaction Hash   Status  \\\n",
       "279          279  0x7e0a8e3990159e4f3f56cb9c698cb8cdd8c1db009248...  Success   \n",
       "280          280  0xae8ba6ae4274756b4de55bb669e4fe91f0c0766a3f5a...  Success   \n",
       "2524        2524  0xc13b3162f1ac5f352ecb8c054935bafaa61cb21e909b...  Success   \n",
       "2545        2545  0x5edf1fdcb7742399065365ea808d5364c9ec92a8b15c...  Success   \n",
       "3528        3528  0x2101f4ba90a93a0b5803420c7458de0524986c81c1c1...  Success   \n",
       "3529        3529  0x79f782190634b9aa74fe4759ecc30d55d859b69691be...  Success   \n",
       "3531        3531  0xd83e502efad5eda0a030f7487271f79c53c34a6598c1...  Success   \n",
       "3727        3727  0x9fbdb0eb4b20d21adf4d8bc60ba0fa973d5ddd3c8cec...  Success   \n",
       "\n",
       "      Time Consumed (Seconds)  Value (Ether)  Transaction Fees (Ether)  \\\n",
       "279                       769       0.450000                  0.018895   \n",
       "280                       528       0.000000                  0.002841   \n",
       "2524                     2632       0.223849                  0.023792   \n",
       "2545                     1739       0.001000                  0.002835   \n",
       "3528                      504       0.370000                  0.018239   \n",
       "3529                      504       0.016360                  0.036645   \n",
       "3531                      504       0.000000                  0.037861   \n",
       "3727                      756       0.000000                  0.006635   \n",
       "\n",
       "      Gas Price (Ether)  Gas Limit  Gas Used  \n",
       "279        1.485000e-07     168139    127241  \n",
       "280        1.353000e-07      21000     21000  \n",
       "2524       1.342000e-07     263868    177290  \n",
       "2545       1.350000e-07     180000     21000  \n",
       "3528       1.600000e-07     153335    113993  \n",
       "3529       1.600000e-07     271461    229029  \n",
       "3531       1.600000e-07     314240    236634  \n",
       "3727       1.610000e-07      60000     41209  "
      ]
     },
     "execution_count": 33,
     "metadata": {},
     "output_type": "execute_result"
    }
   ],
   "source": [
    "df[df['Time Consumed (Seconds)'].between(501,2700, inclusive=True)]"
   ]
  },
  {
   "cell_type": "markdown",
   "metadata": {},
   "source": [
    "**For the transaction having time upto 150 seconds, the mean is 33, standard deviation is 22 and amximum time taken is 150 seconds. Though, 80% of transactions completed upto 30 seconds. So, finality time for the bracket [0-150] seconds is as calculated ((Mean + Std. Deviation + Maximum value -150 seconds(As considerable amount of transactions))/2) = 2203.**"
   ]
  },
  {
   "cell_type": "markdown",
   "metadata": {},
   "source": [
    "**Considering the above brackets of finality time, we are using ((0.94*103 + 0.05*457 + 0.0015*2203 = 127) + effective outliers value(0.94*150 + 0.05*497 + 0.00154*2632 = 169)/2) = 150 (approx) for ropsten network.\n",
    "For mainnet network, we took an average of outliers ranging between 500 and 2700 = (992 + 150)/2 = 571 seconds.** "
   ]
  },
  {
   "cell_type": "markdown",
   "metadata": {},
   "source": [
    "**## Analysis of relationship b/w Time Taken & different parameters.**"
   ]
  },
  {
   "cell_type": "markdown",
   "metadata": {},
   "source": [
    "1. Relationship of Time Consumed and amount value.\n",
    "2. Relationship of Time Consumed and Transaction Fees.\n",
    "3. Relationship of Time Consumed and Gas Price,Gas Limit, Gas Used.\n",
    "4. Relationship of Gas Limit and Gas Used.\n",
    "5. Relationship of value and Gas Price, Gas Limit."
   ]
  },
  {
   "cell_type": "code",
   "execution_count": 60,
   "metadata": {},
   "outputs": [
    {
     "data": {
      "image/png": "[encoded data removed]",
      "text/plain": [
       "<Figure size 1080x360 with 2 Axes>"
      ]
     },
     "metadata": {},
     "output_type": "display_data"
    }
   ],
   "source": [
    "a = plt.subplots(1,2,figsize=(15,5))[1].ravel()\n",
    "v = df[df['Time Consumed (Seconds)'] <= 500]\n",
    "v1 = df[df['Time Consumed (Seconds)'] > 500]\n",
    "a[0].scatter(v['Time Consumed (Seconds)'], v['Value (Ether)'])\n",
    "a[1].scatter(v1['Time Consumed (Seconds)'], v1['Value (Ether)'])\n",
    "plt.xlabel('Time ')\n",
    "plt.ylabel('Value')\n",
    "plt.title(\"Relation between Time Consumed and Amount.\")\n",
    "plt.tight_layout()\n",
    "plt.show()"
   ]
  },
  {
   "cell_type": "code",
   "execution_count": 63,
   "metadata": {},
   "outputs": [
    {
     "data": {
      "image/png": "[encoded data removed]",
      "text/plain": [
       "<Figure size 1080x360 with 2 Axes>"
      ]
     },
     "metadata": {},
     "output_type": "display_data"
    }
   ],
   "source": [
    "a = plt.subplots(1,2,figsize=(15,5))[1].ravel()\n",
    "v = df[df['Time Consumed (Seconds)'] <= 400]\n",
    "v1 = df[df['Time Consumed (Seconds)'] > 400]\n",
    "a[0].scatter(v['Time Consumed (Seconds)'], v['Transaction Fees (Ether)'])\n",
    "a[1].scatter(v1['Time Consumed (Seconds)'], v1['Transaction Fees (Ether)'])\n",
    "plt.xlabel('Time ')\n",
    "plt.ylabel('Value')\n",
    "plt.title(\"Relation between Time Consumed and Transaction Fees.\")\n",
    "plt.tight_layout()\n",
    "plt.show()"
   ]
  },
  {
   "cell_type": "code",
   "execution_count": 107,
   "metadata": {},
   "outputs": [
    {
     "name": "stderr",
     "output_type": "stream",
     "text": [
      "C:\\Users\\jain\\Anaconda3\\lib\\site-packages\\ipykernel_launcher.py:3: SettingWithCopyWarning: \n",
      "A value is trying to be set on a copy of a slice from a DataFrame.\n",
      "Try using .loc[row_indexer,col_indexer] = value instead\n",
      "\n",
      "See the caveats in the documentation: http://pandas.pydata.org/pandas-docs/stable/indexing.html#indexing-view-versus-copy\n",
      "  This is separate from the ipykernel package so we can avoid doing imports until\n",
      "C:\\Users\\jain\\Anaconda3\\lib\\site-packages\\ipykernel_launcher.py:5: SettingWithCopyWarning: \n",
      "A value is trying to be set on a copy of a slice from a DataFrame.\n",
      "Try using .loc[row_indexer,col_indexer] = value instead\n",
      "\n",
      "See the caveats in the documentation: http://pandas.pydata.org/pandas-docs/stable/indexing.html#indexing-view-versus-copy\n",
      "  \"\"\"\n",
      "C:\\Users\\jain\\Anaconda3\\lib\\site-packages\\ipykernel_launcher.py:7: SettingWithCopyWarning: \n",
      "A value is trying to be set on a copy of a slice from a DataFrame.\n",
      "Try using .loc[row_indexer,col_indexer] = value instead\n",
      "\n",
      "See the caveats in the documentation: http://pandas.pydata.org/pandas-docs/stable/indexing.html#indexing-view-versus-copy\n",
      "  import sys\n",
      "C:\\Users\\jain\\Anaconda3\\lib\\site-packages\\ipykernel_launcher.py:9: SettingWithCopyWarning: \n",
      "A value is trying to be set on a copy of a slice from a DataFrame.\n",
      "Try using .loc[row_indexer,col_indexer] = value instead\n",
      "\n",
      "See the caveats in the documentation: http://pandas.pydata.org/pandas-docs/stable/indexing.html#indexing-view-versus-copy\n",
      "  if __name__ == '__main__':\n"
     ]
    },
    {
     "data": {
      "image/png": "[encoded data removed]",
      "text/plain": [
       "<Figure size 1080x720 with 4 Axes>"
      ]
     },
     "metadata": {},
     "output_type": "display_data"
    }
   ],
   "source": [
    "a = plt.subplots(2,2,figsize=(15,10))[1].ravel()\n",
    "d = df[df['Time Consumed (Seconds)'] <= 20]\n",
    "d['Gas Price (Ether)'] = d['Gas Price (Ether)']*1000000000\n",
    "d1 = df[df['Time Consumed (Seconds)'] <= 100]\n",
    "d1['Gas Price (Ether)'] = d1['Gas Price (Ether)']*1000000000\n",
    "v = df[df['Time Consumed (Seconds)'] <= 400]\n",
    "v['Gas Price (Ether)'] = v['Gas Price (Ether)']*1000000000\n",
    "v1 = df[df['Time Consumed (Seconds)'] > 400]\n",
    "v1['Gas Price (Ether)'] = v1['Gas Price (Ether)']*1000000000\n",
    "a[0].scatter(v['Time Consumed (Seconds)'], v['Gas Price (Ether)'])\n",
    "a[1].scatter(v1['Time Consumed (Seconds)'], v1['Gas Price (Ether)'])\n",
    "a[2].scatter(d['Time Consumed (Seconds)'], d['Gas Price (Ether)'])\n",
    "a[3].scatter(d1['Time Consumed (Seconds)'], d1['Gas Price (Ether)'])\n",
    "plt.xlabel('Time ')\n",
    "plt.ylabel('Value')\n",
    "plt.title(\"Relation between Time Consumed and Gas Price.\")\n",
    "plt.tight_layout()\n",
    "plt.show()"
   ]
  },
  {
   "cell_type": "code",
   "execution_count": 81,
   "metadata": {},
   "outputs": [
    {
     "data": {
      "image/png": "[encoded data removed]",
      "text/plain": [
       "<Figure size 1080x720 with 6 Axes>"
      ]
     },
     "metadata": {},
     "output_type": "display_data"
    }
   ],
   "source": [
    "a = plt.subplots(2,3,figsize=(15,10))[1].ravel()\n",
    "a[0].hist(df['Gas Price (Ether)']*1000000000,bins=100,range=[1,100])\n",
    "a[1].hist(df['Gas Price (Ether)']*1000000000,bins=100,range=[101,200])\n",
    "a[2].hist(df['Gas Price (Ether)']*1000000000,bins=100,range=[201,300])\n",
    "a[3].hist(df['Gas Price (Ether)']*1000000000,bins=100,range=[301,400])\n",
    "a[4].hist(df['Gas Price (Ether)']*1000000000,bins=100,range=[401,500])\n",
    "a[5].hist(df['Gas Price (Ether)']*1000000000,bins=100,range=[501,5000])\n",
    "#plt.tight_layout()\n",
    "#plt.show()\n",
    "#a[7].set_ylim([0,5])\n",
    "plt.tight_layout()\n",
    "plt.show()"
   ]
  },
  {
   "cell_type": "markdown",
   "metadata": {},
   "source": [
    "**Analysis of Findings **\n",
    "1. **Gas Price is concentrated in the range of 130 to 220 Gwei. In normal cases, if user pays this gas price( near to 250 Gwei), the observed time taken would be <=500 seconds. For time greater than 500 seconds, the gas price is around maximum 170 Gwei.** \n",
    "2. **There are some points where there is high gas price (around 5000 Gwei), the time taken is less than 40 seconds.**\n",
    "3. **For the transactions completing below 20 seconds, the gas price is around 300 Gwei.**"
   ]
  },
  {
   "cell_type": "code",
   "execution_count": 111,
   "metadata": {},
   "outputs": [
    {
     "name": "stdout",
     "output_type": "stream",
     "text": [
      "Gas Limit\n",
      "87579       1\n",
      "79038       1\n",
      "65000       1\n",
      "65630       1\n",
      "65934       1\n",
      "66033       1\n",
      "86829       1\n",
      "86790       1\n",
      "85566       1\n",
      "66127       1\n",
      "43738       2\n",
      "41209       2\n",
      "21500       2\n",
      "21408       2\n",
      "140000      2\n",
      "400000      2\n",
      "57896       2\n",
      "50165       2\n",
      "61813       2\n",
      "48714       2\n",
      "48870       2\n",
      "70000       2\n",
      "213325      2\n",
      "48959       2\n",
      "50000       2\n",
      "54485       2\n",
      "95500       3\n",
      "395317      3\n",
      "55181       3\n",
      "351400      3\n",
      "210000      3\n",
      "48977       3\n",
      "48846       3\n",
      "40000       3\n",
      "42096       4\n",
      "420000      4\n",
      "75247       5\n",
      "250000      6\n",
      "64200       6\n",
      "80000       6\n",
      "60010       6\n",
      "207128      7\n",
      "500000      8\n",
      "300000     10\n",
      "150000     13\n",
      "90000      19\n",
      "200000     29\n",
      "100000     40\n",
      "60000      45\n",
      "21000     128\n",
      "Name: Status, dtype: int64\n"
     ]
    },
    {
     "data": {
      "image/png": "[encoded data removed]",
      "text/plain": [
       "<Figure size 432x288 with 1 Axes>"
      ]
     },
     "metadata": {},
     "output_type": "display_data"
    }
   ],
   "source": [
    "v = df[df['Time Consumed (Seconds)'].between(0,20, inclusive=True)]\n",
    "x = v.groupby('Gas Limit').count()\n",
    "print(x['Status'].sort_values().tail(50))\n",
    "plt.scatter(v['Time Consumed (Seconds)'], v['Gas Limit'])\n",
    "plt.show()"
   ]
  },
  {
   "cell_type": "code",
   "execution_count": 113,
   "metadata": {},
   "outputs": [
    {
     "name": "stdout",
     "output_type": "stream",
     "text": [
      "Gas Limit\n",
      "66853        5\n",
      "84000        5\n",
      "56836        5\n",
      "75247        5\n",
      "41197        5\n",
      "350000       5\n",
      "61813        6\n",
      "67451        6\n",
      "67918        6\n",
      "48846        6\n",
      "51179        6\n",
      "395317       6\n",
      "1170500      7\n",
      "48959        7\n",
      "35000        7\n",
      "65000        7\n",
      "56209        7\n",
      "82442        8\n",
      "60001        8\n",
      "84313        9\n",
      "60010       11\n",
      "25200       12\n",
      "45000       12\n",
      "210000      12\n",
      "82418       12\n",
      "70000       13\n",
      "30000       13\n",
      "120000      13\n",
      "105000      15\n",
      "1000000     15\n",
      "41209       15\n",
      "180000      15\n",
      "600000      18\n",
      "49070       21\n",
      "400000      22\n",
      "42000       23\n",
      "800000      25\n",
      "50000       29\n",
      "420000      32\n",
      "80000       51\n",
      "150000      56\n",
      "300000      69\n",
      "90000       78\n",
      "200000      84\n",
      "250000     100\n",
      "500000     123\n",
      "100000     139\n",
      "60000      149\n",
      "207128     215\n",
      "21000      929\n",
      "Name: Status, dtype: int64\n"
     ]
    },
    {
     "data": {
      "image/png": "[encoded data removed]",
      "text/plain": [
       "<Figure size 432x288 with 1 Axes>"
      ]
     },
     "metadata": {},
     "output_type": "display_data"
    }
   ],
   "source": [
    "v = df[df['Time Consumed (Seconds)'].between(20,50, inclusive=True)]\n",
    "x = v.groupby('Gas Limit').count()\n",
    "print(x['Status'].sort_values().tail(50))\n",
    "plt.scatter(v['Time Consumed (Seconds)'], v['Gas Limit'])\n",
    "plt.show()"
   ]
  },
  {
   "cell_type": "code",
   "execution_count": 114,
   "metadata": {},
   "outputs": [
    {
     "data": {
      "image/png": "[encoded data removed]",
      "text/plain": [
       "<Figure size 1080x360 with 2 Axes>"
      ]
     },
     "metadata": {},
     "output_type": "display_data"
    }
   ],
   "source": [
    "a = plt.subplots(1,2,figsize=(15,5))[1].ravel()\n",
    "v = df[df['Time Consumed (Seconds)'] <= 40]\n",
    "v1 = df[df['Time Consumed (Seconds)'] > 400]\n",
    "a[0].scatter(v['Time Consumed (Seconds)'], v['Gas Limit'])\n",
    "a[1].scatter(v1['Time Consumed (Seconds)'], v1['Gas Limit'])\n",
    "plt.xlabel('Time ')\n",
    "plt.ylabel('Gas Limit')\n",
    "plt.title(\"Relation between Time Consumed and Gas Limit.\")\n",
    "plt.tight_layout()\n",
    "plt.show()"
   ]
  },
  {
   "cell_type": "code",
   "execution_count": 115,
   "metadata": {},
   "outputs": [
    {
     "name": "stdout",
     "output_type": "stream",
     "text": [
      "           Unnamed: 0  Transaction Hash  Status  Time Consumed (Seconds)  \\\n",
      "Gas Limit                                                                  \n",
      "229125              1                 1       1                        1   \n",
      "230651              1                 1       1                        1   \n",
      "238434              1                 1       1                        1   \n",
      "239222              1                 1       1                        1   \n",
      "239452              1                 1       1                        1   \n",
      "240063              1                 1       1                        1   \n",
      "240639              1                 1       1                        1   \n",
      "250000              2                 2       2                        2   \n",
      "254733              1                 1       1                        1   \n",
      "254999              1                 1       1                        1   \n",
      "283152              1                 1       1                        1   \n",
      "300000              3                 3       3                        3   \n",
      "302112              1                 1       1                        1   \n",
      "315447              2                 2       2                        2   \n",
      "320140              1                 1       1                        1   \n",
      "326478              1                 1       1                        1   \n",
      "331604              1                 1       1                        1   \n",
      "355506              1                 1       1                        1   \n",
      "500000              3                 3       3                        3   \n",
      "800000              1                 1       1                        1   \n",
      "819200              1                 1       1                        1   \n",
      "938489              1                 1       1                        1   \n",
      "1000000             1                 1       1                        1   \n",
      "1312134             1                 1       1                        1   \n",
      "2601641             1                 1       1                        1   \n",
      "\n",
      "           Value (Ether)  Transaction Fees (Ether)  Gas Price (Ether)  \\\n",
      "Gas Limit                                                               \n",
      "229125                 1                         1                  1   \n",
      "230651                 1                         1                  1   \n",
      "238434                 1                         1                  1   \n",
      "239222                 1                         1                  1   \n",
      "239452                 1                         1                  1   \n",
      "240063                 1                         1                  1   \n",
      "240639                 1                         1                  1   \n",
      "250000                 2                         2                  2   \n",
      "254733                 1                         1                  1   \n",
      "254999                 1                         1                  1   \n",
      "283152                 1                         1                  1   \n",
      "300000                 3                         3                  3   \n",
      "302112                 1                         1                  1   \n",
      "315447                 2                         2                  2   \n",
      "320140                 1                         1                  1   \n",
      "326478                 1                         1                  1   \n",
      "331604                 1                         1                  1   \n",
      "355506                 1                         1                  1   \n",
      "500000                 3                         3                  3   \n",
      "800000                 1                         1                  1   \n",
      "819200                 1                         1                  1   \n",
      "938489                 1                         1                  1   \n",
      "1000000                1                         1                  1   \n",
      "1312134                1                         1                  1   \n",
      "2601641                1                         1                  1   \n",
      "\n",
      "           Gas Used  \n",
      "Gas Limit            \n",
      "229125            1  \n",
      "230651            1  \n",
      "238434            1  \n",
      "239222            1  \n",
      "239452            1  \n",
      "240063            1  \n",
      "240639            1  \n",
      "250000            2  \n",
      "254733            1  \n",
      "254999            1  \n",
      "283152            1  \n",
      "300000            3  \n",
      "302112            1  \n",
      "315447            2  \n",
      "320140            1  \n",
      "326478            1  \n",
      "331604            1  \n",
      "355506            1  \n",
      "500000            3  \n",
      "800000            1  \n",
      "819200            1  \n",
      "938489            1  \n",
      "1000000           1  \n",
      "1312134           1  \n",
      "2601641           1  \n"
     ]
    },
    {
     "data": {
      "text/plain": [
       "<matplotlib.collections.PathCollection at 0x154476e5d68>"
      ]
     },
     "execution_count": 115,
     "metadata": {},
     "output_type": "execute_result"
    },
    {
     "data": {
      "image/png": "[encoded data removed]",
      "text/plain": [
       "<Figure size 1080x360 with 2 Axes>"
      ]
     },
     "metadata": {},
     "output_type": "display_data"
    }
   ],
   "source": [
    "a = plt.subplots(1,2,figsize=(15,5))[1].ravel()\n",
    "v = df[df['Time Consumed (Seconds)'].between(150,500, inclusive=True)]\n",
    "print(v.groupby('Gas Limit').count().tail(25))\n",
    "v1 = df[df['Time Consumed (Seconds)'] > 50]\n",
    "a[0].scatter(v['Time Consumed (Seconds)'], v['Gas Limit'])\n",
    "a[1].scatter(v1['Time Consumed (Seconds)'], v1['Gas Limit'])"
   ]
  },
  {
   "cell_type": "code",
   "execution_count": 91,
   "metadata": {},
   "outputs": [
    {
     "data": {
      "image/png": "[encoded data removed]",
      "text/plain": [
       "<Figure size 1080x720 with 12 Axes>"
      ]
     },
     "metadata": {},
     "output_type": "display_data"
    }
   ],
   "source": [
    "a = plt.subplots(4,3,figsize=(15,10))[1].ravel()\n",
    "a[0].hist(df['Gas Limit'],bins=30,range=[21000,25000])\n",
    "a[1].hist(df['Gas Limit'],bins=30,range=[25000,35000])\n",
    "a[2].hist(df['Gas Limit'],bins=30,range=[35000,55000])\n",
    "a[3].hist(df['Gas Limit'],bins=30,range=[55000,80000])\n",
    "a[4].hist(df['Gas Limit'],bins=30,range=[80000,100000])\n",
    "a[5].hist(df['Gas Limit'],bins=30,range=[100000,150000])\n",
    "a[6].hist(df['Gas Limit'],bins=30,range=[150000,250000])\n",
    "a[7].hist(df['Gas Limit'],bins=30,range=[250000,500000])\n",
    "a[8].hist(df['Gas Limit'],bins=30,range=[500000,600000])\n",
    "a[9].hist(df['Gas Limit'],bins=30,range=[600000,700000])\n",
    "a[10].hist(df['Gas Limit'],bins=30,range=[700000,1000000])\n",
    "a[11].hist(df['Gas Limit'],bins=30,range=[1000000,1000000000])\n",
    "#plt.tight_layout()\n",
    "#plt.show()\n",
    "#a[7].set_ylim([0,5])\n",
    "plt.tight_layout()\n",
    "plt.show()"
   ]
  },
  {
   "cell_type": "markdown",
   "metadata": {},
   "source": [
    "**Table of Findings of Relation between Time Consumed with Gas Price and Gas Limit.**"
   ]
  },
  {
   "cell_type": "markdown",
   "metadata": {},
   "source": [
    "| Gas Limit | Time Taken | Remarks | Gas Price |\n",
    "| --- | --- | --- | --- |\n",
    "| <= 3,00,000 | 0-20 sec | ~42% (majority 21000 gas limit)| 140-300(gas price in gwei), some high exceptions of gas price.\n",
    "| <= 5,00,000 | 20-400 sec | (majority 21000 gas limit)| 140-200(gas price in gwei).\n",
    "| <= 3,00,000 | 40-2700 sec | Having wide array of values (sparsed)| 130-175(gas price in gwei)"
   ]
  },
  {
   "cell_type": "code",
   "execution_count": 125,
   "metadata": {},
   "outputs": [
    {
     "data": {
      "text/plain": [
       "count    5.169000e+03\n",
       "mean     9.048802e+04\n",
       "std      3.243448e+05\n",
       "min      0.000000e+00\n",
       "25%      0.000000e+00\n",
       "50%      3.000000e+04\n",
       "75%      7.592900e+04\n",
       "max      1.235556e+07\n",
       "Name: Gas Left, dtype: float64"
      ]
     },
     "execution_count": 125,
     "metadata": {},
     "output_type": "execute_result"
    }
   ],
   "source": [
    "df['Gas Left'] = df['Gas Limit'] - df['Gas Used']\n",
    "df['Gas Left'].describe()\n",
    "#plt.hist(df['Gas Left'],bins=30,range=[0,10000])"
   ]
  },
  {
   "cell_type": "markdown",
   "metadata": {},
   "source": [
    "**Findings on Gas Limit and Gas Used.**\n",
    "1. Around 25% of transactions consumed whole gas. ANd around 75% of trasnactions having gas unused <= 75929. There are few trasnactions having high unused gas value."
   ]
  },
  {
   "cell_type": "code",
   "execution_count": null,
   "metadata": {},
   "outputs": [],
   "source": []
  }
 ],
 "metadata": {
  "kernelspec": {
   "display_name": "Python 3",
   "language": "python",
   "name": "python3"
  },
  "language_info": {
   "codemirror_mode": {
    "name": "ipython",
    "version": 3
   },
   "file_extension": ".py",
   "mimetype": "text/x-python",
   "name": "python",
   "nbconvert_exporter": "python",
   "pygments_lexer": "ipython3",
   "version": "3.6.5"
  }
 },
 "nbformat": 4,
 "nbformat_minor": 2
}
