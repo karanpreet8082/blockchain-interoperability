{
  "nbformat": 4,
  "nbformat_minor": 0,
  "metadata": {
    "colab": {
      "name": "TimeLocks.ipynb",
      "provenance": [],
      "collapsed_sections": []
    },
    "kernelspec": {
      "name": "python3",
      "display_name": "Python 3"
    },
    "language_info": {
      "name": "python"
    }
  },
  "cells": [
    {
      "cell_type": "markdown",
      "source": [
        ""
      ],
      "metadata": {
        "id": "fslB80m6Fi7b"
      }
    },
    {
      "cell_type": "markdown",
      "source": [
        "Average Confirmation Time for Networks:-\n",
        "\n",
        ">(For 7 Block Confirmations)\n",
        "\n",
        "\n",
        "\n",
        "\n",
        "1.   KovanETH - 37.414094 sec\n",
        "2.   RopstenETH - 68.048145 sec\n",
        "3. GoerliETH - 120.815506\n",
        "4. RinkebyETH - 103.899296\n",
        "5. Shasta TRON - 26.305858\n",
        "6. Assuming Buffer Time - 300 sec\n",
        "\n",
        "\n",
        "\n",
        "\n",
        "\n",
        "\n",
        "\n",
        "\n",
        "\n",
        "\n",
        "\n",
        "\n",
        "\n",
        "\n",
        "\n",
        "\n",
        "\n",
        "\n",
        "\n",
        "\n",
        "\n",
        "\n"
      ],
      "metadata": {
        "id": "xiR59sw29Iik"
      }
    },
    {
      "cell_type": "markdown",
      "source": [
        ""
      ],
      "metadata": {
        "id": "DDTU4QQ0FOS0"
      }
    },
    {
      "cell_type": "code",
      "execution_count": 5,
      "metadata": {
        "id": "7iR67gJS9H0V"
      },
      "outputs": [],
      "source": [
        "#These avergae confirmation times for 7 blocks were obtained by analysing data for each network individually\n",
        "\n",
        "\n",
        "times = [37.414094,68.048145,120.815506,103.899296,26.305858]\n",
        "# kovan, ropsten,, goerli, rinkeby, shashta\n",
        "names = [\"KovanETH\", \"RopstenETH\", \"GoerliETH\", \"RinkebyETH\", \"ShastaTRON\"]"
      ]
    },
    {
      "cell_type": "code",
      "source": [
        "buffer = 300"
      ],
      "metadata": {
        "id": "VcQ9Uqys-GwD"
      },
      "execution_count": 6,
      "outputs": []
    },
    {
      "cell_type": "code",
      "source": [
        "# Equation for Time Lock for Initiator\n",
        "def timeA(t1,t2):\n",
        "  return 3*300 + 3*max(t1,t2)\n",
        "\n",
        "# Equation of Time Lock for Respondent\n",
        "def timeB(t1,t2):\n",
        "  return 300 + t2\n",
        "\n",
        "# Here t1 = Avergae Confirmation Time for 7 blocks on Network 1\n",
        "# Here t2 = Avergae Confirmation Time for 7 blocks on Network 2 "
      ],
      "metadata": {
        "id": "urAzyRkJ-cLy"
      },
      "execution_count": 7,
      "outputs": []
    },
    {
      "cell_type": "code",
      "source": [
        "# Iterating all possible time lock values for  transactions amongst networks\n",
        "\n",
        "\n",
        "for i in range(0,5):\n",
        "  for j in range(i+1,5):\n",
        "    t1 = times[i]\n",
        "    t2 = times[j]\n",
        "    print(names[i], \" to \", names[j])\n",
        "    print(\"Initiator time is \", timeA(t1,t2))\n",
        "    print(\"Respondent time is \", timeB(t1,t2))\n",
        "    print()\n",
        "\n",
        "for i in range(4,0,-1):\n",
        "  for j in range(0,i):\n",
        "    t1 = times[i]\n",
        "    t2 = times[j]\n",
        "    print(names[i], \" to \", names[j])\n",
        "    print(\"Initiator time is \", timeA(t1,t2))\n",
        "    print(\"Respondent time is \", timeB(t1,t2))\n",
        "    print()"
      ],
      "metadata": {
        "colab": {
          "base_uri": "https://localhost:8080/"
        },
        "id": "ROeV8w46CTYE",
        "outputId": "12820fcc-ff76-4cce-e1fe-bc660d4785f6"
      },
      "execution_count": 8,
      "outputs": [
        {
          "output_type": "stream",
          "name": "stdout",
          "text": [
            "KovanETH  to  RopstenETH\n",
            "Initiator time is  1104.144435\n",
            "Respondent time is  368.048145\n",
            "\n",
            "KovanETH  to  GoerliETH\n",
            "Initiator time is  1262.446518\n",
            "Respondent time is  420.815506\n",
            "\n",
            "KovanETH  to  RinkebyETH\n",
            "Initiator time is  1211.6978880000001\n",
            "Respondent time is  403.899296\n",
            "\n",
            "KovanETH  to  ShastaTRON\n",
            "Initiator time is  1012.2422819999999\n",
            "Respondent time is  326.305858\n",
            "\n",
            "RopstenETH  to  GoerliETH\n",
            "Initiator time is  1262.446518\n",
            "Respondent time is  420.815506\n",
            "\n",
            "RopstenETH  to  RinkebyETH\n",
            "Initiator time is  1211.6978880000001\n",
            "Respondent time is  403.899296\n",
            "\n",
            "RopstenETH  to  ShastaTRON\n",
            "Initiator time is  1104.144435\n",
            "Respondent time is  326.305858\n",
            "\n",
            "GoerliETH  to  RinkebyETH\n",
            "Initiator time is  1262.446518\n",
            "Respondent time is  403.899296\n",
            "\n",
            "GoerliETH  to  ShastaTRON\n",
            "Initiator time is  1262.446518\n",
            "Respondent time is  326.305858\n",
            "\n",
            "RinkebyETH  to  ShastaTRON\n",
            "Initiator time is  1211.6978880000001\n",
            "Respondent time is  326.305858\n",
            "\n",
            "ShastaTRON  to  KovanETH\n",
            "Initiator time is  1012.2422819999999\n",
            "Respondent time is  337.414094\n",
            "\n",
            "ShastaTRON  to  RopstenETH\n",
            "Initiator time is  1104.144435\n",
            "Respondent time is  368.048145\n",
            "\n",
            "ShastaTRON  to  GoerliETH\n",
            "Initiator time is  1262.446518\n",
            "Respondent time is  420.815506\n",
            "\n",
            "ShastaTRON  to  RinkebyETH\n",
            "Initiator time is  1211.6978880000001\n",
            "Respondent time is  403.899296\n",
            "\n",
            "RinkebyETH  to  KovanETH\n",
            "Initiator time is  1211.6978880000001\n",
            "Respondent time is  337.414094\n",
            "\n",
            "RinkebyETH  to  RopstenETH\n",
            "Initiator time is  1211.6978880000001\n",
            "Respondent time is  368.048145\n",
            "\n",
            "RinkebyETH  to  GoerliETH\n",
            "Initiator time is  1262.446518\n",
            "Respondent time is  420.815506\n",
            "\n",
            "GoerliETH  to  KovanETH\n",
            "Initiator time is  1262.446518\n",
            "Respondent time is  337.414094\n",
            "\n",
            "GoerliETH  to  RopstenETH\n",
            "Initiator time is  1262.446518\n",
            "Respondent time is  368.048145\n",
            "\n",
            "RopstenETH  to  KovanETH\n",
            "Initiator time is  1104.144435\n",
            "Respondent time is  337.414094\n",
            "\n"
          ]
        }
      ]
    }
  ]
}