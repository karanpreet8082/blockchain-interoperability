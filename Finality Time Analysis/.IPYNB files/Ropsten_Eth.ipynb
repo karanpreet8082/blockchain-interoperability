{
 "cells": [
  {
   "cell_type": "code",
   "execution_count": 1,
   "id": "b91d5835",
   "metadata": {},
   "outputs": [],
   "source": [
    "import numpy as np\n",
    "import pandas as pd\n",
    "import matplotlib.pyplot as plt"
   ]
  },
  {
   "cell_type": "code",
   "execution_count": 2,
   "id": "f9685e1a",
   "metadata": {},
   "outputs": [],
   "source": [
    "# reading csv files\n",
    "df2 = pd.read_table(r\"C:\\Users\\Munish\\Desktop\\Scraping Eth\\ropsten3.csv\", delimiter = \",\")\n",
    "df3 = pd.read_table(r\"C:\\Users\\Munish\\Desktop\\Scraping Eth\\ropsten4.csv\", delimiter = \",\")\n",
    "df4 = pd.read_table(r\"C:\\Users\\Munish\\Desktop\\Scraping Eth\\ropsten5.csv\", delimiter = \",\")\n",
    "df5 = pd.read_table(r\"C:\\Users\\Munish\\Desktop\\Scraping Eth\\ropsten6.csv\", delimiter = \",\")\n",
    "df6 = pd.read_table(r\"C:\\Users\\Munish\\Desktop\\Scraping Eth\\ropsten7.csv\", delimiter = \",\")\n",
    "df7 = pd.read_table(r\"C:\\Users\\Munish\\Desktop\\Scraping Eth\\ropsten8.csv\", delimiter = \",\")\n",
    "df8 = pd.read_table(r\"C:\\Users\\Munish\\Desktop\\Scraping Eth\\ropsten9.csv\", delimiter = \",\")\n",
    "df9 = pd.read_table(r\"C:\\Users\\Munish\\Desktop\\Scraping Eth\\ropsten10.csv\", delimiter = \",\")"
   ]
  },
  {
   "cell_type": "code",
   "execution_count": 3,
   "id": "8fdf3bea",
   "metadata": {},
   "outputs": [
    {
     "data": {
      "text/plain": [
       "(383, 10)"
      ]
     },
     "execution_count": 3,
     "metadata": {},
     "output_type": "execute_result"
    }
   ],
   "source": [
    "#Combining csv files\n",
    "dfinal = [df2,df3,df4,df5,df6,df7,df8,df9]\n",
    "result = pd.concat(dfinal)\n",
    "result.shape"
   ]
  },
  {
   "cell_type": "code",
   "execution_count": 4,
   "id": "98de9e5d",
   "metadata": {},
   "outputs": [
    {
     "data": {
      "text/plain": [
       "Index(['web-scraper-order', 'web-scraper-start-url', 'txns1', 'txns1-href',\n",
       "       'transaction_hash', 'status', 'block_confirmations', 'Confirmed_time',\n",
       "       'timestamp', 'blockno'],\n",
       "      dtype='object')"
      ]
     },
     "execution_count": 4,
     "metadata": {},
     "output_type": "execute_result"
    }
   ],
   "source": [
    "result.columns"
   ]
  },
  {
   "cell_type": "code",
   "execution_count": 5,
   "id": "efb67281",
   "metadata": {},
   "outputs": [
    {
     "data": {
      "text/plain": [
       "pandas.core.series.Series"
      ]
     },
     "execution_count": 5,
     "metadata": {},
     "output_type": "execute_result"
    }
   ],
   "source": [
    "type(result.blockno)"
   ]
  },
  {
   "cell_type": "code",
   "execution_count": 6,
   "id": "0912b977",
   "metadata": {},
   "outputs": [
    {
     "data": {
      "text/plain": [
       "360"
      ]
     },
     "execution_count": 6,
     "metadata": {},
     "output_type": "execute_result"
    }
   ],
   "source": [
    "result[\"txns1-href\"].nunique()"
   ]
  },
  {
   "cell_type": "code",
   "execution_count": 7,
   "id": "fa810e7f",
   "metadata": {},
   "outputs": [],
   "source": [
    "    result[\"time_in_seconds\"] = result[\"timestamp\"]"
   ]
  },
  {
   "cell_type": "code",
   "execution_count": 8,
   "id": "36f192d6",
   "metadata": {},
   "outputs": [],
   "source": [
    "def get_index(ans):\n",
    "    i = 0;\n",
    "    while(ans[i]!= \" \"):\n",
    "        i+=1;\n",
    "    return i\n",
    "\n",
    "def convertStr(ans):\n",
    "    space = get_index(ans)\n",
    "    time  = int(ans[:space])\n",
    "    if(ans[space+1] == \"m\"):\n",
    "        time *= 60\n",
    "    elif (ans[space+1] == \"h\"):\n",
    "        time = time*60*60\n",
    "    return time\n"
   ]
  },
  {
   "cell_type": "code",
   "execution_count": 9,
   "id": "99f1453d",
   "metadata": {},
   "outputs": [],
   "source": [
    "\n",
    "arr = []\n",
    "for i in range(0,result.shape[0]):\n",
    "    arr.append( convertStr(result['timestamp'].iloc[i]))"
   ]
  },
  {
   "cell_type": "code",
   "execution_count": 10,
   "id": "ded5bfbb",
   "metadata": {},
   "outputs": [],
   "source": [
    " result[\"time_in_seconds\"] = arr"
   ]
  },
  {
   "cell_type": "code",
   "execution_count": 11,
   "id": "94758e88",
   "metadata": {},
   "outputs": [
    {
     "data": {
      "text/plain": [
       "11"
      ]
     },
     "execution_count": 11,
     "metadata": {},
     "output_type": "execute_result"
    }
   ],
   "source": [
    "result[\"time_in_seconds\"].nunique()"
   ]
  },
  {
   "cell_type": "code",
   "execution_count": null,
   "id": "871f8989",
   "metadata": {},
   "outputs": [],
   "source": []
  },
  {
   "cell_type": "code",
   "execution_count": 12,
   "id": "da08617e",
   "metadata": {},
   "outputs": [],
   "source": [
    "def convertBlcks(ans):\n",
    "    time  = int(ans[:2])\n",
    "    return time\n",
    "\n",
    "\n",
    "arr_new = []\n",
    "for i in range(0,result.shape[0]):\n",
    "    arr_new.append( convertStr(result['block_confirmations'].iloc[i]))"
   ]
  },
  {
   "cell_type": "code",
   "execution_count": 13,
   "id": "71a66ba0",
   "metadata": {},
   "outputs": [],
   "source": [
    "result[\"blockss\"] = arr_new"
   ]
  },
  {
   "cell_type": "code",
   "execution_count": 14,
   "id": "66d4a6f7",
   "metadata": {},
   "outputs": [],
   "source": [
    "arr_avg = []\n",
    "for i in range(0,result.shape[0]):\n",
    "    time = result[\"time_in_seconds\"].iloc[i]\n",
    "    blocks = result[\"blockss\"].iloc[i]\n",
    "    arr_avg.append(7*time/blocks)\n",
    "result[\"time_per_7blocks\"] = arr_avg\n",
    "\n",
    "\n"
   ]
  },
  {
   "cell_type": "code",
   "execution_count": 15,
   "id": "64bff344",
   "metadata": {},
   "outputs": [
    {
     "data": {
      "text/plain": [
       "(383,)"
      ]
     },
     "execution_count": 15,
     "metadata": {},
     "output_type": "execute_result"
    }
   ],
   "source": [
    "result[\"time_per_7blocks\"].shape"
   ]
  },
  {
   "cell_type": "code",
   "execution_count": 16,
   "id": "d71764f1",
   "metadata": {},
   "outputs": [
    {
     "data": {
      "text/plain": [
       "(383, 13)"
      ]
     },
     "execution_count": 16,
     "metadata": {},
     "output_type": "execute_result"
    }
   ],
   "source": [
    "result.shape"
   ]
  },
  {
   "cell_type": "code",
   "execution_count": 17,
   "id": "ad907dd9",
   "metadata": {},
   "outputs": [
    {
     "data": {
      "text/plain": [
       "count    383.000000\n",
       "mean      68.048145\n",
       "std       22.668414\n",
       "min        1.272727\n",
       "25%       70.000000\n",
       "50%       75.000000\n",
       "75%       80.000000\n",
       "max       93.333333\n",
       "Name: time_per_7blocks, dtype: float64"
      ]
     },
     "execution_count": 17,
     "metadata": {},
     "output_type": "execute_result"
    }
   ],
   "source": [
    "result[\"time_per_7blocks\"].describe()\n"
   ]
  }
 ],
 "metadata": {
  "kernelspec": {
   "display_name": "Python 3",
   "language": "python",
   "name": "python3"
  },
  "language_info": {
   "codemirror_mode": {
    "name": "ipython",
    "version": 3
   },
   "file_extension": ".py",
   "mimetype": "text/x-python",
   "name": "python",
   "nbconvert_exporter": "python",
   "pygments_lexer": "ipython3",
   "version": "3.8.8"
  }
 },
 "nbformat": 4,
 "nbformat_minor": 5
}
